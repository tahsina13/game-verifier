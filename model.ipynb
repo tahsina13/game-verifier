{
 "cells": [
  {
   "cell_type": "markdown",
   "metadata": {},
   "source": [
    "# Game Verifier"
   ]
  },
  {
   "cell_type": "code",
   "execution_count": 1,
   "metadata": {},
   "outputs": [],
   "source": [
    "import os\n",
    "iskaggle = os.environ.get('KAGGLE_KERNEL_RUN_TYPE', '')\n",
    "\n",
    "if iskaggle: \n",
    "    !pip install -Uqq fastai"
   ]
  },
  {
   "cell_type": "code",
   "execution_count": 2,
   "metadata": {},
   "outputs": [],
   "source": [
    "import re\n",
    "import shutil\n",
    "import subprocess\n",
    "import time\n",
    "from collections import Counter\n",
    "from operator import itemgetter\n",
    "\n",
    "import ipywidgets as widgets\n",
    "import matplotlib.pyplot as plt\n",
    "import numpy as np\n",
    "import requests\n",
    "import timm\n",
    "import torch\n",
    "from dotenv import load_dotenv\n",
    "from fastai.vision.all import *\n",
    "from fastai.vision.widgets import *\n",
    "from fastcore.all import *\n",
    "from torch import nn\n",
    "from tqdm import tqdm"
   ]
  },
  {
   "cell_type": "markdown",
   "metadata": {},
   "source": [
    "## Gathering Data"
   ]
  },
  {
   "cell_type": "code",
   "execution_count": 3,
   "metadata": {},
   "outputs": [],
   "source": [
    "load_dotenv()\n",
    "\n",
    "USERNAME = os.getenv('REDDIT_USERNAME')\n",
    "PASSWORD = os.getenv('REDDIT_PASSWORD')\n",
    "APP_ID = os.getenv('APP_ID')\n",
    "APP_NAME = os.getenv('APP_NAME')\n",
    "APP_SECRET = os.getenv('APP_SECRET')"
   ]
  },
  {
   "cell_type": "code",
   "execution_count": 4,
   "metadata": {},
   "outputs": [],
   "source": [
    "def is_valid_gallery_url(url): \n",
    "    return isinstance(url, str) and re.match(r'https?://www.reddit.com/gallery/[a-z0-9]+', url)\n",
    "\n",
    "def get_gallery_id(url): \n",
    "    return url.split('/')[-1]"
   ]
  },
  {
   "cell_type": "code",
   "execution_count": 24,
   "metadata": {},
   "outputs": [],
   "source": [
    "# Official Reddit API, requires auth\n",
    "REDDIT_PUB_URL = 'https://www.reddit.com/'\n",
    "REDDIT_OUTH_URL = 'https://oauth.reddit.com/'\n",
    "\n",
    "\n",
    "def get_api_token():\n",
    "    data = {'grant_type': 'password',\n",
    "            'username': USERNAME, 'password': PASSWORD}\n",
    "    auth = requests.auth.HTTPBasicAuth(APP_ID, APP_SECRET)\n",
    "    r = requests.post(REDDIT_PUB_URL + 'api/v1/access_token',\n",
    "                      headers={'user-agent': f'{APP_NAME} by {USERNAME}'},\n",
    "                      data=data, auth=auth)\n",
    "    d = r.json()\n",
    "    return 'bearer ' + d['access_token']\n",
    "\n",
    "\n",
    "def get_posts_reddit(subreddit, token, **params):\n",
    "    headers = {'Authorization': token,\n",
    "               'User-Agent': f'{APP_NAME} by {USERNAME}'}\n",
    "    response = requests.get(\n",
    "        REDDIT_OUTH_URL + f'r/{subreddit}/new.json', headers=headers, params=params)\n",
    "    if response.status_code == 200:\n",
    "        return response.json()['data']\n",
    "    else:\n",
    "        raise Exception(f'Request failed with status code {\n",
    "                        response.status_code}')\n",
    "\n",
    "\n",
    "def get_gallery_urls_reddit(subreddit, token, classes, limits=100, max_imgs=1000, start=None):\n",
    "    urls = [[] for _ in classes]\n",
    "    limits = list(limits) if hasattr(\n",
    "        limits, '__iter__') else [limits] * len(classes)\n",
    "    cur_time = int(start if start else time.time())\n",
    "    while np.any(limits):\n",
    "        posts = get_posts_reddit(subreddit, token, limit=100, before=cur_time)\n",
    "        for post in posts['children']:\n",
    "            post = post['data']\n",
    "            cur_time = int(post['created_utc'])\n",
    "            label, url = post['link_flair_text'], post['url']\n",
    "            gallery_data = post['gallery_data'] if 'gallery_data' in post else None\n",
    "            img_cnt = len(gallery_data['items']) if gallery_data else 0\n",
    "            if post['locked'] and label in classes and is_valid_gallery_url(url) and img_cnt <= max_imgs:\n",
    "                index = classes.index(label)\n",
    "                if limits[index] > 0: \n",
    "                    urls[index].append(url)\n",
    "                    limits[index] -= 1\n",
    "    return urls"
   ]
  },
  {
   "cell_type": "code",
   "execution_count": 47,
   "metadata": {},
   "outputs": [],
   "source": [
    "# Thrid-party PullPush API, no auth\n",
    "PULLPUSH_URL = \"https://api.pullpush.io/reddit/search/submission/\"\n",
    "\n",
    "\n",
    "def get_posts_pullpush(subreddit, **kwargs):\n",
    "    params = {'subreddit': subreddit, **kwargs}\n",
    "    response = requests.get(PULLPUSH_URL, params=params)\n",
    "    return response.json()\n",
    "\n",
    "\n",
    "def get_gallery_urls_pullpush(subreddit, classes, limits=100, max_imgs=1000, start=None):\n",
    "    urls = [[] for _ in classes]\n",
    "    limits = list(limits) if hasattr(\n",
    "        limits, '__iter__') else [limits] * len(classes)\n",
    "    cur_time = int(start if start else time.time())\n",
    "    while np.any(limits):\n",
    "        posts = get_posts_pullpush(\n",
    "            subreddit, locked=True, size=100, before=cur_time)\n",
    "        for post in posts['data']:\n",
    "            cur_time = int(post['created_utc'])\n",
    "            label, url = post['link_flair_text'], post['url']\n",
    "            gallery_data = post['gallery_data'] if 'gallery_data' in post else None\n",
    "            img_cnt = len(gallery_data['items']) if gallery_data else 0\n",
    "            if label in classes and is_valid_gallery_url(url) and img_cnt <= max_imgs:\n",
    "                index = classes.index(label)\n",
    "                if limits[index] > 0:\n",
    "                    urls[index].append(url)\n",
    "                    limits[index] -= 1\n",
    "    return urls"
   ]
  },
  {
   "cell_type": "code",
   "execution_count": null,
   "metadata": {},
   "outputs": [],
   "source": [
    "token = get_api_token()\n",
    "token"
   ]
  },
  {
   "cell_type": "code",
   "execution_count": 3,
   "metadata": {},
   "outputs": [],
   "source": [
    "SUBREDDIT = \"gameverifying\"\n",
    "CLASSES = ['Legitimate', 'Fake']\n",
    "LIMIT, MAX_IMAGES = 100, 2"
   ]
  },
  {
   "cell_type": "code",
   "execution_count": null,
   "metadata": {},
   "outputs": [],
   "source": [
    "# Using Official Reddit API\n",
    "urls = get_gallery_urls_reddit(SUBREDDIT, token, CLASSES, LIMIT, MAX_IMAGES)"
   ]
  },
  {
   "cell_type": "code",
   "execution_count": 48,
   "metadata": {},
   "outputs": [],
   "source": [
    "# Using Third-party Pullpush API\n",
    "urls = get_gallery_urls_pullpush(SUBREDDIT, CLASSES, LIMIT, MAX_IMAGES)"
   ]
  },
  {
   "cell_type": "code",
   "execution_count": 49,
   "metadata": {},
   "outputs": [
    {
     "name": "stdout",
     "output_type": "stream",
     "text": [
      "Legitimate: 100\n",
      "Fake: 100\n"
     ]
    }
   ],
   "source": [
    "for cls, links in zip(CLASSES, urls):\n",
    "    print(f'{cls}: {len(links)}')"
   ]
  },
  {
   "cell_type": "code",
   "execution_count": 50,
   "metadata": {},
   "outputs": [],
   "source": [
    "def download_gallery_images(urls, path):\n",
    "    path = Path(path)\n",
    "    for url in tqdm(urls): \n",
    "        id = get_gallery_id(url)\n",
    "        dirname = path / id\n",
    "        dirname.mkdir(exist_ok=True, parents=True)\n",
    "        subprocess.Popen(['gallery-dl', url, '-D', dirname], \n",
    "                         stdout=subprocess.DEVNULL, \n",
    "                         stderr=subprocess.DEVNULL)"
   ]
  },
  {
   "cell_type": "code",
   "execution_count": 4,
   "metadata": {},
   "outputs": [],
   "source": [
    "DATA_DIR = Path('/kaggle/input/game-verifier-data' if iskaggle else '.')\n",
    "ROOT_DIR = DATA_DIR / 'images'"
   ]
  },
  {
   "cell_type": "code",
   "execution_count": 52,
   "metadata": {},
   "outputs": [
    {
     "name": "stderr",
     "output_type": "stream",
     "text": [
      "  0%|          | 0/100 [00:00<?, ?it/s]"
     ]
    },
    {
     "name": "stderr",
     "output_type": "stream",
     "text": [
      "100%|██████████| 100/100 [00:03<00:00, 32.06it/s]\n",
      "100%|██████████| 100/100 [00:07<00:00, 13.59it/s]\n"
     ]
    }
   ],
   "source": [
    "shutil.rmtree(ROOT_DIR, ignore_errors=True)\n",
    "for cls, links in zip(CLASSES, urls): \n",
    "    download_gallery_images(links, ROOT_DIR / cls.lower())"
   ]
  },
  {
   "cell_type": "code",
   "execution_count": 53,
   "metadata": {},
   "outputs": [
    {
     "data": {
      "text/plain": [
       "0"
      ]
     },
     "execution_count": 53,
     "metadata": {},
     "output_type": "execute_result"
    }
   ],
   "source": [
    "fnames = get_image_files(ROOT_DIR)\n",
    "failed = verify_images(fnames)\n",
    "failed.map(Path.unlink)\n",
    "len(failed)"
   ]
  },
  {
   "cell_type": "code",
   "execution_count": 54,
   "metadata": {},
   "outputs": [
    {
     "data": {
      "image/jpeg": "[encoded data removed]",
      "image/png": "[encoded data removed]",
      "text/plain": [
       "<PIL.Image.Image image mode=RGB size=96x128>"
      ]
     },
     "execution_count": 54,
     "metadata": {},
     "output_type": "execute_result"
    }
   ],
   "source": [
    "img = Image.open(fnames[0])\n",
    "img.to_thumb(128,128)"
   ]
  },
  {
   "cell_type": "markdown",
   "metadata": {},
   "source": [
    "## Cleaning Data"
   ]
  },
  {
   "cell_type": "code",
   "execution_count": 5,
   "metadata": {},
   "outputs": [
    {
     "data": {
      "image/png": "[encoded data removed]",
      "text/plain": [
       "<Figure size 640x480 with 1 Axes>"
      ]
     },
     "metadata": {},
     "output_type": "display_data"
    }
   ],
   "source": [
    "def get_gallery_dirs(root_dir): \n",
    "    return np.concatenate([(root_dir / cls.lower()).ls() for cls in CLASSES])\n",
    "\n",
    "gal_dirs = get_gallery_dirs(ROOT_DIR)\n",
    "img_cnts = {d : len(get_image_files(d)) for d in gal_dirs}\n",
    "\n",
    "max_cnt = max(img_cnts.values())\n",
    "counter = Counter(img_cnts.values())\n",
    "\n",
    "labels = list(range(max_cnt + 1))\n",
    "freqs = list(map(counter.__getitem__, labels))\n",
    "\n",
    "plt.bar(labels, freqs)\n",
    "\n",
    "plt.title(\"Number of Images per Post\")\n",
    "plt.xlabel(\"Number of Images\")\n",
    "plt.ylabel(\"Number of Posts\")\n",
    "plt.xticks(labels)\n",
    "\n",
    "plt.show()"
   ]
  },
  {
   "cell_type": "code",
   "execution_count": 56,
   "metadata": {},
   "outputs": [
    {
     "name": "stdout",
     "output_type": "stream",
     "text": [
      "images/legitimate/1966rrx\t2\n",
      "images/legitimate/1cigabb\t2\n",
      "images/legitimate/15w30z0\t2\n",
      "images/legitimate/15lun87\t2\n",
      "images/legitimate/1dimhzv\t2\n",
      "images/legitimate/1cp8qv2\t2\n",
      "images/legitimate/15w4hr5\t2\n",
      "images/legitimate/15mk83m\t2\n",
      "images/legitimate/17rm0so\t2\n",
      "images/legitimate/15lxwmf\t2\n"
     ]
    }
   ],
   "source": [
    "top_cnts = sorted(img_cnts.items(), key=itemgetter(1), reverse=True)\n",
    "\n",
    "for dirname, cnt in top_cnts[:10]: \n",
    "    print(f'{str(dirname).ljust(25)}\\t{cnt}') "
   ]
  },
  {
   "cell_type": "code",
   "execution_count": 7,
   "metadata": {},
   "outputs": [],
   "source": [
    "@delegates(ImagesCleaner)\n",
    "class GalleryCleaner(GetAttr):\n",
    "    def __init__(self, dirnames, **kwargs):\n",
    "        self.default = self.iw = ImagesCleaner(**kwargs)\n",
    "        self.dd_dnames = widgets.Dropdown(options=dirnames)\n",
    "        self.btn_select = widgets.Button(description='Select All')\n",
    "        self.btn_delete = widgets.Button(description='Delete')\n",
    "        self.dd_dnames.observe(self.on_change_dir, names='value')\n",
    "        self.btn_select.on_click(self.on_select_all)\n",
    "        self.btn_delete.on_click(self.on_delete_all)\n",
    "        self.on_change_dir()\n",
    "        self.widget = VBox([self.dd_dnames, self.iw.widget,\n",
    "                           self.btn_select, self.btn_delete])\n",
    "\n",
    "    def _ipython_display_(self): display(self.widget)\n",
    "\n",
    "    def on_change_dir(self, change=None):\n",
    "        fnames = sorted(get_image_files(self.dd_dnames.value))\n",
    "        self.iw.set_fns(fnames)\n",
    "\n",
    "    def on_select_all(self, btn): \n",
    "        for dd in L(self.iw.widget.children).itemgot(1): \n",
    "            dd.value = '<Delete>'\n",
    "\n",
    "    def on_delete_all(self, btn): \n",
    "        for idx in self.iw.delete(): \n",
    "            self.iw.fns[idx].unlink()\n",
    "        self.on_change_dir()"
   ]
  },
  {
   "cell_type": "code",
   "execution_count": 16,
   "metadata": {},
   "outputs": [
    {
     "data": {
      "application/vnd.jupyter.widget-view+json": {
       "model_id": "5c1ce2a701c34a3dbace1e8b0fa64365",
       "version_major": 2,
       "version_minor": 0
      },
      "text/plain": [
       "VBox(children=(Dropdown(options=(Path('images/legitimate/18guywh'), Path('images/legitimate/1dfzd1n'), Path('i…"
      ]
     },
     "metadata": {},
     "output_type": "display_data"
    }
   ],
   "source": [
    "cleaner = GalleryCleaner(L(top_cnts).itemgot(0))\n",
    "cleaner"
   ]
  },
  {
   "cell_type": "code",
   "execution_count": 57,
   "metadata": {},
   "outputs": [
    {
     "data": {
      "text/plain": [
       "74"
      ]
     },
     "execution_count": 57,
     "metadata": {},
     "output_type": "execute_result"
    }
   ],
   "source": [
    "failed = list(map(shutil.rmtree, [d for d, c in img_cnts.items() if c == 0]))\n",
    "len(failed)"
   ]
  },
  {
   "cell_type": "code",
   "execution_count": 18,
   "metadata": {},
   "outputs": [
    {
     "data": {
      "text/plain": [
       "169"
      ]
     },
     "execution_count": 18,
     "metadata": {},
     "output_type": "execute_result"
    }
   ],
   "source": [
    "def split_gallery(dirname):\n",
    "    dirname = Path(dirname)\n",
    "    fnames = sorted(get_image_files(dirname))\n",
    "    for i in range(len(fnames) // 2):\n",
    "        old_parent = fnames[2*i].parent\n",
    "        new_parent = old_parent.with_name(\n",
    "            f'{old_parent.name}_{i}') if i > 0 else old_parent\n",
    "        new_parent.mkdir(exist_ok=True)\n",
    "        shutil.move(fnames[2*i], new_parent / fnames[2*i].name)\n",
    "        shutil.move(fnames[2*i+1], new_parent / fnames[2*i+1].name)\n",
    "    if len(fnames) % 2 == 1:\n",
    "        fnames[-1].unlink()\n",
    "\n",
    "split = list(map(split_gallery, get_gallery_dirs(ROOT_DIR)))\n",
    "len(split)"
   ]
  },
  {
   "cell_type": "code",
   "execution_count": 67,
   "metadata": {},
   "outputs": [
    {
     "data": {
      "text/plain": [
       "180"
      ]
     },
     "execution_count": 67,
     "metadata": {},
     "output_type": "execute_result"
    }
   ],
   "source": [
    "def rename_gallery_images(dirname):\n",
    "    dirname = Path(dirname)\n",
    "    fnames = sorted(get_image_files(dirname))\n",
    "    for i in range(len(fnames)):\n",
    "        ext = fnames[i].suffix\n",
    "        fnames[i].rename(fnames[i].with_name(f'{(i+1):03}{ext}'))\n",
    "\n",
    "renamed = list(map(rename_gallery_images, get_gallery_dirs(ROOT_DIR)))\n",
    "len(renamed)"
   ]
  },
  {
   "cell_type": "code",
   "execution_count": 6,
   "metadata": {},
   "outputs": [
    {
     "name": "stdout",
     "output_type": "stream",
     "text": [
      "Legitimate: 95\n",
      "Fake: 85\n"
     ]
    }
   ],
   "source": [
    "for cls in CLASSES: \n",
    "    cnt = len((ROOT_DIR / cls.lower()).ls())\n",
    "    print(f'{cls}: {cnt}')"
   ]
  },
  {
   "cell_type": "markdown",
   "metadata": {},
   "source": [
    "## Training Model"
   ]
  },
  {
   "cell_type": "code",
   "execution_count": 7,
   "metadata": {},
   "outputs": [],
   "source": [
    "MODEL_DIR = Path('/kaggle/working/models' if iskaggle else 'models')"
   ]
  },
  {
   "cell_type": "code",
   "execution_count": 8,
   "metadata": {},
   "outputs": [
    {
     "data": {
      "text/plain": [
       "(torch.Size([64, 3, 224, 224]),\n",
       " torch.Size([64, 3, 224, 224]),\n",
       " torch.Size([64]))"
      ]
     },
     "execution_count": 8,
     "metadata": {},
     "output_type": "execute_result"
    }
   ],
   "source": [
    "def get_front_image(dirname): return sorted(get_image_files(dirname))[0] \n",
    "def get_back_image(dirname):  return sorted(get_image_files(dirname))[1]\n",
    "\n",
    "dblock = DataBlock(\n",
    "    blocks=(ImageBlock, ImageBlock, CategoryBlock),\n",
    "    n_inp=2,\n",
    "    get_items=get_gallery_dirs,\n",
    "    splitter=RandomSplitter(valid_pct=0.2),\n",
    "    get_x=[get_front_image, get_back_image],\n",
    "    get_y=parent_label,\n",
    "    item_tfms=Resize(480), \n",
    "    batch_tfms=aug_transforms(size=224, min_scale=0.75)\n",
    ")\n",
    "\n",
    "dls = dblock.dataloaders(ROOT_DIR)\n",
    "front, back, targs = dls.one_batch()\n",
    "front.shape, back.shape, targs.shape"
   ]
  },
  {
   "cell_type": "markdown",
   "metadata": {},
   "source": [
    "### ConvNet Model "
   ]
  },
  {
   "cell_type": "code",
   "execution_count": 9,
   "metadata": {},
   "outputs": [],
   "source": [
    "class ConvNetModel(nn.Module):\n",
    "    def __init__(self, arch, n_out=1, **kwargs):\n",
    "        super().__init__()\n",
    "        self.model, self.cfg = create_timm_model(\n",
    "            arch, n_out=n_out, n_in=6, **kwargs)\n",
    "\n",
    "    def forward(self, x1, x2):\n",
    "        xs = torch.cat((x1, x2), dim=-3)\n",
    "        return self.model(xs)\n",
    "\n",
    "\n",
    "model = ConvNetModel('resnet18', n_out=dls.c)\n",
    "learn = Learner(dls, model, metrics=error_rate, model_dir=MODEL_DIR)"
   ]
  },
  {
   "cell_type": "code",
   "execution_count": null,
   "metadata": {},
   "outputs": [],
   "source": [
    "learn.lr_find()"
   ]
  },
  {
   "cell_type": "code",
   "execution_count": null,
   "metadata": {},
   "outputs": [],
   "source": [
    "epochs, lr = 4, 3e-3\n",
    "learn.fine_tune(epochs, base_lr=lr)"
   ]
  },
  {
   "cell_type": "code",
   "execution_count": null,
   "metadata": {},
   "outputs": [],
   "source": [
    "interp = ClassificationInterpretation.from_learner(learn)\n",
    "interp.plot_confusion_matrix()"
   ]
  },
  {
   "cell_type": "markdown",
   "metadata": {},
   "source": [
    "### TwinNet Model"
   ]
  },
  {
   "cell_type": "code",
   "execution_count": 11,
   "metadata": {},
   "outputs": [],
   "source": [
    "class TwinNetModel(nn.Module):\n",
    "    def __init__(self, arch, n_out=1, **kwargs):\n",
    "        super().__init__()\n",
    "        self.model = timm.create_model(\n",
    "            arch, pretrained=True, num_classes=0, **kwargs)\n",
    "        self.head = nn.Linear(self.model.num_features * 2, n_out)\n",
    "\n",
    "    def forward(self, x1, x2):\n",
    "        f1, f2 = self.model(x1), self.model(x2)\n",
    "        f = torch.cat((f1, f2), dim=1)\n",
    "        return self.head(f)\n",
    "\n",
    "\n",
    "model = TwinNetModel('resnet18', n_out=dls.c)\n",
    "learn = Learner(dls, model, metrics=error_rate, model_dir=MODEL_DIR)"
   ]
  },
  {
   "cell_type": "code",
   "execution_count": null,
   "metadata": {},
   "outputs": [],
   "source": [
    "learn.lr_find()"
   ]
  },
  {
   "cell_type": "code",
   "execution_count": null,
   "metadata": {},
   "outputs": [],
   "source": [
    "epochs, lr = 4, 3e-3\n",
    "learn.fine_tune(epochs, base_lr=lr)"
   ]
  },
  {
   "cell_type": "code",
   "execution_count": null,
   "metadata": {},
   "outputs": [],
   "source": [
    "interp = ClassificationInterpretation.from_learner(learn)\n",
    "interp.plot_confusion_matrix()"
   ]
  }
 ],
 "metadata": {
  "kernelspec": {
   "display_name": "Python 3",
   "language": "python",
   "name": "python3"
  },
  "language_info": {
   "codemirror_mode": {
    "name": "ipython",
    "version": 3
   },
   "file_extension": ".py",
   "mimetype": "text/x-python",
   "name": "python",
   "nbconvert_exporter": "python",
   "pygments_lexer": "ipython3",
   "version": "3.12.3"
  }
 },
 "nbformat": 4,
 "nbformat_minor": 2
}
